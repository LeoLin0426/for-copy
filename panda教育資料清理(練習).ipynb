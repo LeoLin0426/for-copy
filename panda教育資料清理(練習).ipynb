{
 "cells": [
  {
   "cell_type": "code",
   "execution_count": null,
   "metadata": {},
   "outputs": [],
   "source": [
    "#讀資料\n",
    "import pandas as pd\n",
    "df = pd.read_csv(r\"./data/107_edu.csv\")\n"
   ]
  },
  {
   "cell_type": "code",
   "execution_count": 11,
   "metadata": {},
   "outputs": [
    {
     "data": {
      "text/plain": [
       "Index(['統計年', '區域別代碼', '區域別', '村里', '教育程度', '性別', '戶長數'], dtype='object')"
      ]
     },
     "execution_count": 11,
     "metadata": {},
     "output_type": "execute_result"
    }
   ],
   "source": [
    "#看column名稱\n",
    "df.columns"
   ]
  },
  {
   "cell_type": "code",
   "execution_count": 12,
   "metadata": {},
   "outputs": [],
   "source": [
    "#拿掉不要的column '區域別代碼'\n",
    "df = df.drop(columns = ['區域別代碼'])"
   ]
  },
  {
   "cell_type": "code",
   "execution_count": 13,
   "metadata": {},
   "outputs": [
    {
     "data": {
      "application/vnd.microsoft.datawrangler.viewer.v0+json": {
       "columns": [
        {
         "name": "index",
         "rawType": "int64",
         "type": "integer"
        },
        {
         "name": "統計年",
         "rawType": "int64",
         "type": "integer"
        },
        {
         "name": "區域別",
         "rawType": "object",
         "type": "string"
        },
        {
         "name": "村里",
         "rawType": "object",
         "type": "string"
        },
        {
         "name": "教育程度",
         "rawType": "object",
         "type": "string"
        },
        {
         "name": "性別",
         "rawType": "object",
         "type": "string"
        },
        {
         "name": "戶長數",
         "rawType": "int64",
         "type": "integer"
        }
       ],
       "conversionMethod": "pd.DataFrame",
       "ref": "28cd0f47-94ee-4113-9d6a-1adc00239966",
       "rows": [
        [
         "0",
         "107",
         "新北市板橋區",
         "留侯里",
         "博畢",
         "男",
         "3"
        ],
        [
         "1",
         "107",
         "新北市板橋區",
         "留侯里",
         "碩畢",
         "男",
         "26"
        ],
        [
         "2",
         "107",
         "新北市板橋區",
         "留侯里",
         "大畢",
         "男",
         "71"
        ],
        [
         "3",
         "107",
         "新北市板橋區",
         "留侯里",
         "專畢",
         "男",
         "52"
        ],
        [
         "4",
         "107",
         "新北市板橋區",
         "留侯里",
         "高中畢",
         "男",
         "122"
        ]
       ],
       "shape": {
        "columns": 6,
        "rows": 5
       }
      },
      "text/html": [
       "<div>\n",
       "<style scoped>\n",
       "    .dataframe tbody tr th:only-of-type {\n",
       "        vertical-align: middle;\n",
       "    }\n",
       "\n",
       "    .dataframe tbody tr th {\n",
       "        vertical-align: top;\n",
       "    }\n",
       "\n",
       "    .dataframe thead th {\n",
       "        text-align: right;\n",
       "    }\n",
       "</style>\n",
       "<table border=\"1\" class=\"dataframe\">\n",
       "  <thead>\n",
       "    <tr style=\"text-align: right;\">\n",
       "      <th></th>\n",
       "      <th>統計年</th>\n",
       "      <th>區域別</th>\n",
       "      <th>村里</th>\n",
       "      <th>教育程度</th>\n",
       "      <th>性別</th>\n",
       "      <th>戶長數</th>\n",
       "    </tr>\n",
       "  </thead>\n",
       "  <tbody>\n",
       "    <tr>\n",
       "      <th>0</th>\n",
       "      <td>107</td>\n",
       "      <td>新北市板橋區</td>\n",
       "      <td>留侯里</td>\n",
       "      <td>博畢</td>\n",
       "      <td>男</td>\n",
       "      <td>3</td>\n",
       "    </tr>\n",
       "    <tr>\n",
       "      <th>1</th>\n",
       "      <td>107</td>\n",
       "      <td>新北市板橋區</td>\n",
       "      <td>留侯里</td>\n",
       "      <td>碩畢</td>\n",
       "      <td>男</td>\n",
       "      <td>26</td>\n",
       "    </tr>\n",
       "    <tr>\n",
       "      <th>2</th>\n",
       "      <td>107</td>\n",
       "      <td>新北市板橋區</td>\n",
       "      <td>留侯里</td>\n",
       "      <td>大畢</td>\n",
       "      <td>男</td>\n",
       "      <td>71</td>\n",
       "    </tr>\n",
       "    <tr>\n",
       "      <th>3</th>\n",
       "      <td>107</td>\n",
       "      <td>新北市板橋區</td>\n",
       "      <td>留侯里</td>\n",
       "      <td>專畢</td>\n",
       "      <td>男</td>\n",
       "      <td>52</td>\n",
       "    </tr>\n",
       "    <tr>\n",
       "      <th>4</th>\n",
       "      <td>107</td>\n",
       "      <td>新北市板橋區</td>\n",
       "      <td>留侯里</td>\n",
       "      <td>高中畢</td>\n",
       "      <td>男</td>\n",
       "      <td>122</td>\n",
       "    </tr>\n",
       "  </tbody>\n",
       "</table>\n",
       "</div>"
      ],
      "text/plain": [
       "   統計年     區域別   村里 教育程度 性別  戶長數\n",
       "0  107  新北市板橋區  留侯里   博畢  男    3\n",
       "1  107  新北市板橋區  留侯里   碩畢  男   26\n",
       "2  107  新北市板橋區  留侯里   大畢  男   71\n",
       "3  107  新北市板橋區  留侯里   專畢  男   52\n",
       "4  107  新北市板橋區  留侯里  高中畢  男  122"
      ]
     },
     "execution_count": 13,
     "metadata": {},
     "output_type": "execute_result"
    }
   ],
   "source": [
    "df.head()"
   ]
  },
  {
   "cell_type": "code",
   "execution_count": 21,
   "metadata": {},
   "outputs": [],
   "source": [
    "#分組操作，相同區域別、村里、教育程度的'戶長數'加總\n",
    "df_1 = df.groupby(['統計年','區域別', '村里', '教育程度']).sum().reset_index() # reset_index()是為了讓index重新編號，這樣可以保留分組後的結果作為新的DataFrame，而不是以分組鍵(如:區域別、村里等)作為索引\n"
   ]
  },
  {
   "cell_type": "code",
   "execution_count": 22,
   "metadata": {},
   "outputs": [],
   "source": [
    "#拿掉column'性別'\n",
    "df_1 = df_1.drop(columns=['性別'])"
   ]
  },
  {
   "cell_type": "code",
   "execution_count": 23,
   "metadata": {},
   "outputs": [],
   "source": [
    "#將column區域別的前3個字串和第3個字串以後的字串分割成兩個不同的column，前者叫\"city\"後者叫\"district\"，並把column\"區域別\"的前3個字串拿掉\n",
    "df_1['city'] = df_1['區域別'].str[:3]\n",
    "df_1['district'] = df_1['區域別'].str[3:]\n",
    "df_1 = df_1.drop(columns=['區域別'])\n",
    "\n"
   ]
  },
  {
   "cell_type": "code",
   "execution_count": 24,
   "metadata": {},
   "outputs": [],
   "source": [
    "#將column名稱的順序由左至右以統計年、city、district、村里、教育程度排序\n",
    "df_1 = df_1[['統計年', 'city', 'district', '村里', '教育程度', '戶長數']]\n"
   ]
  },
  {
   "cell_type": "code",
   "execution_count": 28,
   "metadata": {},
   "outputs": [],
   "source": [
    "#將df_1以統計年、city、district、教育程度分組，並將戶長數加總\n",
    "df_2 = df_1.groupby(['統計年', 'city', 'district', '教育程度']).sum().reset_index()"
   ]
  },
  {
   "cell_type": "code",
   "execution_count": 30,
   "metadata": {},
   "outputs": [],
   "source": [
    "#將df_2的column\"\"村里\"拿掉\n",
    "df_2 = df_2.drop(columns=['村里'])"
   ]
  },
  {
   "cell_type": "code",
   "execution_count": 31,
   "metadata": {},
   "outputs": [],
   "source": [
    "#將column\"教育程度\"的博士、碩士、大學、高中、國中、國小變成column，並將column\"戶長數\"的值填入對應的column中\n",
    "df_2 = df_2.pivot_table(index=['統計年', 'city', 'district'], columns='教育程度', values='戶長數').reset_index()"
   ]
  },
  {
   "cell_type": "code",
   "execution_count": 34,
   "metadata": {},
   "outputs": [],
   "source": [
    "#將column以統計年、city、district、博士、碩士、大學、高中、國中、國小排序\n",
    "df_2 = df_2[['統計年', 'city', 'district', '博畢', '碩畢', '大畢', '高中畢', '國中畢', '國小畢以下']]"
   ]
  }
 ],
 "metadata": {
  "kernelspec": {
   "display_name": "base",
   "language": "python",
   "name": "python3"
  },
  "language_info": {
   "codemirror_mode": {
    "name": "ipython",
    "version": 3
   },
   "file_extension": ".py",
   "mimetype": "text/x-python",
   "name": "python",
   "nbconvert_exporter": "python",
   "pygments_lexer": "ipython3",
   "version": "3.12.3"
  }
 },
 "nbformat": 4,
 "nbformat_minor": 2
}
